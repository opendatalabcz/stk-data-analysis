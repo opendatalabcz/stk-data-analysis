{
 "cells": [
  {
   "cell_type": "code",
   "execution_count": 50,
   "id": "turkish-conversation",
   "metadata": {},
   "outputs": [],
   "source": [
    "import pandas as pd\n",
    "import lxml\n",
    "import csv\n",
    "import os"
   ]
  },
  {
   "cell_type": "code",
   "execution_count": 68,
   "id": "contemporary-upset",
   "metadata": {},
   "outputs": [],
   "source": [
    "df = pd.read_html('https://www.zakonyprolidi.cz/cs/2018-211')"
   ]
  },
  {
   "cell_type": "code",
   "execution_count": 69,
   "id": "judicial-weight",
   "metadata": {},
   "outputs": [
    {
     "data": {
      "text/plain": [
       "27"
      ]
     },
     "execution_count": 69,
     "metadata": {},
     "output_type": "execute_result"
    }
   ],
   "source": [
    "len(df)"
   ]
  },
  {
   "cell_type": "code",
   "execution_count": 70,
   "id": "engaging-incentive",
   "metadata": {
    "scrolled": true
   },
   "outputs": [],
   "source": [
    "df[2].to_csv('oznacenie_zavad.csv', header=True, index=False, encoding='utf-16')"
   ]
  },
  {
   "cell_type": "code",
   "execution_count": 71,
   "id": "interpreted-evans",
   "metadata": {
    "scrolled": false
   },
   "outputs": [
    {
     "name": "stdout",
     "output_type": "stream",
     "text": [
      "['Číslo a základní popis závady', 'Číslo a základní popis závady', 'Číslo KÚ v ISTP', 'Podrobný popis závady se stupněm hodnocení', 'Podrobný popis závady se stupněm hodnocení']\n",
      "\n",
      "1194\n",
      "1194\n",
      "1194\n"
     ]
    }
   ],
   "source": [
    "stupne_zavad = ['A', 'B', 'C']\n",
    "cisla_KU = []\n",
    "popis_zavady = []\n",
    "stupne = []\n",
    "\n",
    "with open('oznacenie_zavad.csv', encoding='utf-16') as f:\n",
    "    data = csv.reader((line.replace('\\0','') for line in f), delimiter=\",\")\n",
    "    lines = list(data)\n",
    "    print(lines[4])\n",
    "    print()\n",
    "    for line in lines:\n",
    "        if line[4] in stupne_zavad: \n",
    "            \n",
    "            cisla_KU.append(line[2])\n",
    "            popis_zavady.append(line[3])\n",
    "            stupne.append(line[4])\n",
    "            \n",
    "print(len(cisla_KU))\n",
    "print(len(popis_zavady))\n",
    "print(len(stupne))"
   ]
  },
  {
   "cell_type": "code",
   "execution_count": 72,
   "id": "sustained-place",
   "metadata": {},
   "outputs": [],
   "source": [
    "os.remove('oznacenie_zavad.csv')"
   ]
  },
  {
   "cell_type": "code",
   "execution_count": 73,
   "id": "subsequent-agenda",
   "metadata": {},
   "outputs": [],
   "source": [
    "data = pd.DataFrame({'Cislo KU': cisla_KU, 'Popis': popis_zavady, 'Stupen':stupne})"
   ]
  },
  {
   "cell_type": "code",
   "execution_count": 74,
   "id": "growing-hollywood",
   "metadata": {},
   "outputs": [
    {
     "name": "stdout",
     "output_type": "stream",
     "text": [
      "<class 'pandas.core.frame.DataFrame'>\n",
      "RangeIndex: 1194 entries, 0 to 1193\n",
      "Data columns (total 3 columns):\n",
      " #   Column    Non-Null Count  Dtype \n",
      "---  ------    --------------  ----- \n",
      " 0   Cislo KU  1194 non-null   object\n",
      " 1   Popis     1194 non-null   object\n",
      " 2   Stupen    1194 non-null   object\n",
      "dtypes: object(3)\n",
      "memory usage: 28.1+ KB\n"
     ]
    },
    {
     "data": {
      "text/html": [
       "<div>\n",
       "<style scoped>\n",
       "    .dataframe tbody tr th:only-of-type {\n",
       "        vertical-align: middle;\n",
       "    }\n",
       "\n",
       "    .dataframe tbody tr th {\n",
       "        vertical-align: top;\n",
       "    }\n",
       "\n",
       "    .dataframe thead th {\n",
       "        text-align: right;\n",
       "    }\n",
       "</style>\n",
       "<table border=\"1\" class=\"dataframe\">\n",
       "  <thead>\n",
       "    <tr style=\"text-align: right;\">\n",
       "      <th></th>\n",
       "      <th>Cislo KU</th>\n",
       "      <th>Popis</th>\n",
       "      <th>Stupen</th>\n",
       "    </tr>\n",
       "  </thead>\n",
       "  <tbody>\n",
       "    <tr>\n",
       "      <th>443</th>\n",
       "      <td>4.1.4.5.1</td>\n",
       "      <td>U vozidla, schváleného v ČR po 1. 1. 2002, pro...</td>\n",
       "      <td>B</td>\n",
       "    </tr>\n",
       "    <tr>\n",
       "      <th>1037</th>\n",
       "      <td>7.10.6</td>\n",
       "      <td>Rozměr pneumatik, uvedený v montážním štítku k...</td>\n",
       "      <td>B</td>\n",
       "    </tr>\n",
       "    <tr>\n",
       "      <th>10</th>\n",
       "      <td>0.1.5.3</td>\n",
       "      <td>Poloha umístění registrační značky na vozidle ...</td>\n",
       "      <td>B</td>\n",
       "    </tr>\n",
       "    <tr>\n",
       "      <th>204</th>\n",
       "      <td>1.1.17.3.1</td>\n",
       "      <td>U vozidla vybaveného funkčním systémem ABS, kt...</td>\n",
       "      <td>B</td>\n",
       "    </tr>\n",
       "    <tr>\n",
       "      <th>375</th>\n",
       "      <td>3.2.6.1</td>\n",
       "      <td>U motocyklu čelní překryt (větrný štít) praskl...</td>\n",
       "      <td>A</td>\n",
       "    </tr>\n",
       "  </tbody>\n",
       "</table>\n",
       "</div>"
      ],
      "text/plain": [
       "        Cislo KU                                              Popis Stupen\n",
       "443    4.1.4.5.1  U vozidla, schváleného v ČR po 1. 1. 2002, pro...      B\n",
       "1037      7.10.6  Rozměr pneumatik, uvedený v montážním štítku k...      B\n",
       "10       0.1.5.3  Poloha umístění registrační značky na vozidle ...      B\n",
       "204   1.1.17.3.1  U vozidla vybaveného funkčním systémem ABS, kt...      B\n",
       "375      3.2.6.1  U motocyklu čelní překryt (větrný štít) praskl...      A"
      ]
     },
     "execution_count": 74,
     "metadata": {},
     "output_type": "execute_result"
    }
   ],
   "source": [
    "data.info()\n",
    "data.sample(5)"
   ]
  },
  {
   "cell_type": "code",
   "execution_count": 76,
   "id": "ideal-digest",
   "metadata": {},
   "outputs": [],
   "source": [
    "data.to_csv('ciselnik_zavad.csv', encoding='utf-8')"
   ]
  },
  {
   "cell_type": "code",
   "execution_count": 65,
   "id": "loose-russian",
   "metadata": {},
   "outputs": [],
   "source": [
    "#CREATE TABLE ciselnik_zavad ( id SERIAL, CisloKU varchar(50), Popis text, Stupen varchar(10));\n",
    "#\\COPY ciselnik_zavad (id, cislouk, popis, stupen) FROM '/tmp/ciselnik_zavad.csv' DELIMITER ',' CSV HEADER;"
   ]
  }
 ],
 "metadata": {
  "kernelspec": {
   "display_name": "Python 3",
   "language": "python",
   "name": "python3"
  },
  "language_info": {
   "codemirror_mode": {
    "name": "ipython",
    "version": 3
   },
   "file_extension": ".py",
   "mimetype": "text/x-python",
   "name": "python",
   "nbconvert_exporter": "python",
   "pygments_lexer": "ipython3",
   "version": "3.9.0"
  }
 },
 "nbformat": 4,
 "nbformat_minor": 5
}
